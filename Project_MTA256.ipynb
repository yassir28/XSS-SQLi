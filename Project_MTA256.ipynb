{
 "cells": [
  {
   "cell_type": "code",
   "execution_count": 526,
   "metadata": {},
   "outputs": [
    {
     "data": {
      "text/plain": [
       "' first thing to do is to import all packages and modules that we need '"
      ]
     },
     "execution_count": 526,
     "metadata": {},
     "output_type": "execute_result"
    }
   ],
   "source": [
    "\"\"\" first thing to do is to import all packages and modules that we need \"\"\""
   ]
  },
  {
   "cell_type": "code",
   "execution_count": 527,
   "metadata": {},
   "outputs": [],
   "source": [
    "%matplotlib inline\n",
    "import tensorflow as tf\n",
    "import numpy as np\n",
    "from scipy.spatial.distance import cdist\n",
    "from tensorflow.python.keras.models import Sequential\n",
    "from tensorflow.python.keras.layers import Dense, LSTM, Embedding\n",
    "from tensorflow.python.keras.optimizers import Adam\n",
    "from tensorflow.python.keras import metrics\n",
    "from tensorflow.python.keras.preprocessing.text import Tokenizer\n",
    "from tensorflow.python.keras.preprocessing.sequence import pad_sequences\n",
    "from tensorflow.python.keras.utils import np_utils\n",
    "import numpy as np\n",
    "import itertools\n",
    "from sklearn.metrics import confusion_matrix\n",
    "import matplotlib.pyplot as plt\n",
    "import keras.backend as K\n"
   ]
  },
  {
   "cell_type": "code",
   "execution_count": 528,
   "metadata": {},
   "outputs": [
    {
     "data": {
      "text/plain": [
       "\"now let's write some useful functions\""
      ]
     },
     "execution_count": 528,
     "metadata": {},
     "output_type": "execute_result"
    }
   ],
   "source": [
    "\"\"\"now let's write some useful functions\"\"\""
   ]
  },
  {
   "cell_type": "code",
   "execution_count": 529,
   "metadata": {},
   "outputs": [],
   "source": [
    "\"\"\"for text preprocessing\"\"\"\n",
    "\n",
    "\"\"\"the mission of this  function is to exctract samples with their labels, the form of original data is : \"Lensoisdu02:0\",<div id=\"x\">XXX</div> <style>  #x{font-family:foo[bar;color:green;}  #y];color:red;{}  </style>:1,1%\"\"))) waitfor delay '0:0:5'--:2\n",
    "so we can identify human inputs with integer 0, sql injection with integer 1, xss with integer 2\"\"\"\n",
    "\n",
    "def extract_samples_labels(data):\n",
    "    labels=[]\n",
    "    for i in range(len(data)):\n",
    "        label=int(data[i][len(data[i])-1:len(data[i])])\n",
    "        labels.append(label)\n",
    "        data[i]=data[i][0:len(data[i])-2]\n",
    "    return data,labels\n",
    "\n",
    "#the mission of this  function is to exctract malicious paylods only from original data\n",
    "\n",
    "def extract_malicious_samples(data):\n",
    "    malicious_paylods=[]\n",
    "    for i in range(len(data)):\n",
    "        if(data[i][len(data[i])-1:len(data[i])]==\"2\" or data[i][len(data[i])-1:len(data[i])]==\"1\"):#this sample is a malicious payload\n",
    "            malicious_paylods.append(data[i][0:len(data[i])-2])\n",
    "    return malicious_paylods\n",
    "    \n",
    "#the mission of this function is loading data from a prepared files then building 4 arrays in order to handle train_data , test_data and their labels\n",
    "def prepare_data(origin_data):\n",
    "    #data and labels for training\n",
    "    train_data,train_labels=extract_samples_labels(origin_data[0])\n",
    "    #data for labels for  testing\n",
    "    test_data,test_labels=extract_samples_labels(origin_data[1])\n",
    "    return train_data,test_data,np_utils.to_categorical(train_labels,num_classes=3),np_utils.to_categorical(test_labels,num_classes=3)\n",
    "\n",
    "#the mission of this function is calculing the best lengh in order to recover all paylods (we know that human inputs are small usually, so we need to focus on payloads lengh to prevent losing too much informations from payloads)\n",
    "def best_length(malicious_data):\n",
    "    lengh_sequences=[len(tokens) for tokens in malicious_data]\n",
    "    #convert lengh_sequences to array_list so that we can use some useful functions\n",
    "    lengh_sequences=np.array(lengh_sequences)\n",
    "    #i think that the value= np.mean(num_tokens) + 3 * np.std(num_tokens will cover the most part of data\n",
    "    standard_length=int(np.mean(lengh_sequences) + 3 * np.std(lengh_sequences)) \n",
    "    return standard_length\n",
    "\n",
    "#this mission of this function is analysing the vocabulary i.e tokenization\n",
    "def tokenization_standarization(tuple_data,max_lengh):\n",
    "    #creating the object Tekonizer\n",
    "    tokenizer = Tokenizer(num_words=600000,filters=\"\") # you should ask yourself why we need to keep all tokens.. the answer is simple:tokens like '',<>,/,.. are important in order to detect malicious injections   \n",
    "    #now we give the data\"in form text\"\n",
    "    tokenizer.fit_on_texts(tuple_data[0]+tuple_data[1])\n",
    "    #converting each text to a sequence of numbers\n",
    "    train_data=tokenizer.texts_to_sequences(tuple_data[0])\n",
    "    test_data=tokenizer.texts_to_sequences(tuple_data[1])\n",
    "    train_data=pad_sequences(train_data, maxlen=max_lengh,padding='pre', truncating='pre')\n",
    "    test_data=pad_sequences(test_data, maxlen=max_lengh,padding='pre', truncating='pre')\n",
    "    #now we return the result in a form tuple\n",
    "    return train_data,test_data"
   ]
  },
  {
   "cell_type": "code",
   "execution_count": 530,
   "metadata": {},
   "outputs": [
    {
     "data": {
      "text/plain": [
       "\" now it's time of work xD\""
      ]
     },
     "execution_count": 530,
     "metadata": {},
     "output_type": "execute_result"
    }
   ],
   "source": [
    "\"\"\" now it's time of work xD\"\"\""
   ]
  },
  {
   "cell_type": "code",
   "execution_count": 531,
   "metadata": {},
   "outputs": [],
   "source": [
    "#loading data from files\n",
    "origin_data=([line.rstrip('\\n') for line in open(\"C:\\\\Users\\\\pc\\\\train_phase\", encoding=\"utf-8\")],[line.rstrip('\\n') for line in open(\"C:\\\\Users\\\\pc\\\\test_phase\",encoding=\"utf-8\")])"
   ]
  },
  {
   "cell_type": "code",
   "execution_count": 532,
   "metadata": {},
   "outputs": [
    {
     "name": "stdout",
     "output_type": "stream",
     "text": [
      "e  76 he  ( :2\n",
      "\n",
      "1') procedure analyse(extractvalue(9255,concat(0x5c,(benchmark(5000000,md5(0x52515a50))))),1) and ('qdhz'='qdhz:2\n",
      "\n",
      "zbwk bwkv wkvs :0\n",
      "\n"
     ]
    }
   ],
   "source": [
    "#let's print some lines from the dataset: as human you can see the differences beetween the 3 classes\n",
    "print(origin_data[0][12673])\n",
    "print(\"\")\n",
    "print(origin_data[0][672])\n",
    "print(\"\")\n",
    "print(origin_data[0][2683])\n",
    "print(\"\")"
   ]
  },
  {
   "cell_type": "code",
   "execution_count": 533,
   "metadata": {},
   "outputs": [
    {
     "name": "stdout",
     "output_type": "stream",
     "text": [
      "241\n"
     ]
    }
   ],
   "source": [
    "\"\"\"the model can only work with inputs with a fixed size, so we need to calculate the max lengh, as we say before ,the function best_lengh care only  about malicious samples because we know that human inputs(clean code) are small , so we don't want to lose informations by truncating our  malicious paylods into small sequences\"\"\" \n",
    "max_lengh=best_length(extract_malicious_samples(origin_data[0]+origin_data[1]))\n",
    "print(max_lengh)"
   ]
  },
  {
   "cell_type": "code",
   "execution_count": 534,
   "metadata": {},
   "outputs": [
    {
     "name": "stdout",
     "output_type": "stream",
     "text": [
      "cah15504@aol.com\n",
      "[1. 0. 0.]\n"
     ]
    }
   ],
   "source": [
    "\"\"\" now we should split each ligne from the origin data into 2 parts: sample and label\"\"\"\n",
    "tuple_4=prepare_data(origin_data)\n",
    "#printing a sample from train_data with the corresponding label\n",
    "print(tuple_4[0][256])\n",
    "print(tuple_4[2][256])"
   ]
  },
  {
   "cell_type": "code",
   "execution_count": 535,
   "metadata": {},
   "outputs": [
    {
     "data": {
      "text/plain": [
       "'\"\" \"The time for token creation and normalization has now come: each sample will be converted into a list composed of max_length elements where each element i is a number that presents a word in the vocabulary of the dataset(the vocabulary is composed of 200000 frequents words in the dataset).'"
      ]
     },
     "execution_count": 535,
     "metadata": {},
     "output_type": "execute_result"
    }
   ],
   "source": [
    "\"\"\"\"\" \"The time for token creation and normalization has now come: each sample will be converted into a list composed of max_length elements where each element i is a number that presents a word in the vocabulary of the dataset(the vocabulary is composed of 200000 frequents words in the dataset).\"\"\""
   ]
  },
  {
   "cell_type": "code",
   "execution_count": 536,
   "metadata": {},
   "outputs": [],
   "source": [
    "data=tokenization_standarization((tuple_4[0],tuple_4[1]),max_lengh)"
   ]
  },
  {
   "cell_type": "code",
   "execution_count": 537,
   "metadata": {},
   "outputs": [
    {
     "name": "stdout",
     "output_type": "stream",
     "text": [
      "[   0    0    0    0    0    0    0    0    0    0    0    0    0    0\n",
      "    0    0    0    0    0    0    0    0    0    0    0    0    0    0\n",
      "    0    0    0    0    0    0    0    0    0    0    0    0    0    0\n",
      "    0    0    0    0    0    0    0    0    0    0    0    0    0    0\n",
      "    0    0    0    0    0    0    0    0    0    0    0    0    0    0\n",
      "    0    0    0    0    0    0    0    0    0    0    0    0    0    0\n",
      "    0    0    0    0    0    0    0    0    0    0    0    0    0    0\n",
      "    0    0    0    0    0    0    0    0    0    0    0    0    0    0\n",
      "    0    0    0    0    0    0    0    0    0    0    0    0    0    0\n",
      "    0    0    0    0    0    0    0    0    0    0    0    0    0    0\n",
      "    0    0    0    0    0    0    0    0    0    0    0    0    0    0\n",
      "    0    0    0    0    0    0    0    0    0    0    0    0    0    0\n",
      "    0    0    0    0    0    0    0    0    0    0    0    0    0    0\n",
      "    0    0    0    0    0    0    0    0    0    0    0    0    0    0\n",
      "    0    0    0    0    0    0    0    0    0    0    0    0    0    0\n",
      "    0    0    0    0    0    0    0    0    0    0    0    0    0    0\n",
      "    0    0    0    0    0    0    0    0    0    0    0    0   13   92\n",
      "  243   32 1728]\n"
     ]
    }
   ],
   "source": [
    "#we replace with 0 all  words that are not present in our vocabulary\n",
    "print(data[0][13355])\n"
   ]
  },
  {
   "cell_type": "code",
   "execution_count": 538,
   "metadata": {},
   "outputs": [
    {
     "data": {
      "text/plain": [
       "\"now it's time to build our model, the architecture of the model is : embedding layer in order to  convert the dimension of the space of words(it's hard to work with a a space of 600 000 dimensions ) +1 LSTM layers(by experience ,we increase the probability of overfitting when we build too much layers ),we add the option of dropout with a probability=0.5 in order to prevent overfitting+dense layer with 3 outputs, each node of the output present a class  \""
      ]
     },
     "execution_count": 538,
     "metadata": {},
     "output_type": "execute_result"
    }
   ],
   "source": [
    "\"\"\"now it's time to build our model, the architecture of the model is : embedding layer in order to  convert the dimension of the space of words(it's hard to work with a a space of 600 000 dimensions ) +1 LSTM layers(by experience ,we increase the probability of overfitting when we build too much layers ),we add the option of dropout with a probability=0.5 in order to prevent overfitting+dense layer with 3 outputs, each node of the output present a class  \"\"\""
   ]
  },
  {
   "cell_type": "code",
   "execution_count": 539,
   "metadata": {},
   "outputs": [
    {
     "name": "stdout",
     "output_type": "stream",
     "text": [
      "_________________________________________________________________\n",
      "Layer (type)                 Output Shape              Param #   \n",
      "=================================================================\n",
      "layer_embedding (Embedding)  (None, 241, 10)           6000000   \n",
      "_________________________________________________________________\n",
      "lstm_35 (LSTM)               (None, 3)                 168       \n",
      "_________________________________________________________________\n",
      "dense_26 (Dense)             (None, 3)                 12        \n",
      "=================================================================\n",
      "Total params: 6,000,180\n",
      "Trainable params: 6,000,180\n",
      "Non-trainable params: 0\n",
      "_________________________________________________________________\n"
     ]
    }
   ],
   "source": [
    "model_rnn=Sequential()\n",
    "#adding the first layer:the mission of this layer is representing each word in a continue vector form in order to reduce the dimension of presentation and also reassembling similar words i.e the distance beetween two similare words will be small enough\n",
    "model_rnn.add(Embedding(input_dim=600000,output_dim=10,input_length=max_lengh,name='layer_embedding'))\n",
    "#adding the third layer (type lstm with 3 outputs,without returning a sequence)\n",
    "model_rnn.add(LSTM(units=3,dropout=0.5))\n",
    "#adding the last layer,fully connected layer with 3 outputs\n",
    "model_rnn.add(Dense(3,activation='softmax'))\n",
    "#we will use the algorithme adam as optimizer of the cost function\n",
    "optimizer = Adam(lr=1e-3)\n",
    "model_rnn.compile(loss='categorical_crossentropy',optimizer=optimizer,metrics=['accuracy'])\n",
    "#summary of the model\n",
    "model_rnn.summary()"
   ]
  },
  {
   "cell_type": "code",
   "execution_count": 540,
   "metadata": {},
   "outputs": [
    {
     "data": {
      "text/plain": [
       "\"now it's time to train the model(to make things easy for the him,we added in train data most common n-grams of each class ,so he will be able to find features easily)\""
      ]
     },
     "execution_count": 540,
     "metadata": {},
     "output_type": "execute_result"
    }
   ],
   "source": [
    "\"\"\"now it's time to train the model(to make things easy for the him,we added in train data most common n-grams of each class ,so he will be able to find features easily)\"\"\""
   ]
  },
  {
   "cell_type": "code",
   "execution_count": 541,
   "metadata": {},
   "outputs": [
    {
     "name": "stderr",
     "output_type": "stream",
     "text": [
      "C:\\Users\\pc\\Anaconda3\\lib\\site-packages\\tensorflow\\python\\ops\\gradients_impl.py:112: UserWarning: Converting sparse IndexedSlices to a dense Tensor of unknown shape. This may consume a large amount of memory.\n",
      "  \"Converting sparse IndexedSlices to a dense Tensor of unknown shape. \"\n",
      "C:\\Users\\pc\\Anaconda3\\lib\\site-packages\\tensorflow\\python\\ops\\gradients_impl.py:112: UserWarning: Converting sparse IndexedSlices to a dense Tensor of unknown shape. This may consume a large amount of memory.\n",
      "  \"Converting sparse IndexedSlices to a dense Tensor of unknown shape. \"\n"
     ]
    },
    {
     "name": "stdout",
     "output_type": "stream",
     "text": [
      "Train on 78332 samples, validate on 4123 samples\n",
      "Epoch 1/4\n",
      "78332/78332 [==============================] - 462s 6ms/step - loss: 0.4588 - acc: 0.8538 - val_loss: 0.2861 - val_acc: 0.9047\n",
      "Epoch 2/4\n",
      "78332/78332 [==============================] - 424s 5ms/step - loss: 0.2079 - acc: 0.9284 - val_loss: 0.1887 - val_acc: 0.9474\n",
      "Epoch 3/4\n",
      "78332/78332 [==============================] - 402s 5ms/step - loss: 0.1079 - acc: 0.9668 - val_loss: 0.1482 - val_acc: 0.9607\n",
      "Epoch 4/4\n",
      "78332/78332 [==============================] - 407s 5ms/step - loss: 0.0651 - acc: 0.9795 - val_loss: 0.1290 - val_acc: 0.9648\n"
     ]
    },
    {
     "data": {
      "text/plain": [
       "<tensorflow.python.keras.callbacks.History at 0x1ea94962cf8>"
      ]
     },
     "execution_count": 541,
     "metadata": {},
     "output_type": "execute_result"
    }
   ],
   "source": [
    "train_labels=tuple_4[2]\n",
    "model_rnn.fit(data[0],train_labels,validation_split=0.05, epochs=4, batch_size=64)\n"
   ]
  },
  {
   "cell_type": "code",
   "execution_count": 554,
   "metadata": {},
   "outputs": [
    {
     "data": {
      "text/plain": [
       "'time to show new data to the model'"
      ]
     },
     "execution_count": 554,
     "metadata": {},
     "output_type": "execute_result"
    }
   ],
   "source": [
    "\"\"\"time to show new data to the model\"\"\""
   ]
  },
  {
   "cell_type": "code",
   "execution_count": 555,
   "metadata": {},
   "outputs": [
    {
     "name": "stdout",
     "output_type": "stream",
     "text": [
      "16418/16418 [==============================] - 19s 1ms/step\n",
      "Accuracy of my model is almost : 98.5626%\n",
      "Wall time: 19.5 s\n"
     ]
    }
   ],
   "source": [
    "%%time\n",
    "test_labels=tuple_4[3]\n",
    "test = model_rnn.evaluate(data[1], test_labels)\n",
    "print(\"Accuracy of my model is almost : {0:.4%}\".format(test[1]))"
   ]
  },
  {
   "cell_type": "code",
   "execution_count": 556,
   "metadata": {},
   "outputs": [
    {
     "data": {
      "text/plain": [
       "'we have to be careful , we should see how the model is dealing with rare classes'"
      ]
     },
     "execution_count": 556,
     "metadata": {},
     "output_type": "execute_result"
    }
   ],
   "source": [
    "\n",
    "\"\"\"we have to be careful , we should see how the model is dealing with rare classes\"\"\"\n"
   ]
  },
  {
   "cell_type": "code",
   "execution_count": 557,
   "metadata": {},
   "outputs": [],
   "source": [
    "predictions = model_rnn.predict(data[1], batch_size=1000)\n"
   ]
  },
  {
   "cell_type": "code",
   "execution_count": 558,
   "metadata": {},
   "outputs": [
    {
     "data": {
      "text/plain": [
       "array([0.00107704, 0.00502401, 0.993899  ], dtype=float32)"
      ]
     },
     "execution_count": 558,
     "metadata": {},
     "output_type": "execute_result"
    }
   ],
   "source": [
    "predictions[13]"
   ]
  },
  {
   "cell_type": "code",
   "execution_count": 559,
   "metadata": {},
   "outputs": [
    {
     "data": {
      "image/png": "[encoded data removed]",
      "text/plain": [
       "<Figure size 360x360 with 2 Axes>"
      ]
     },
     "metadata": {},
     "output_type": "display_data"
    }
   ],
   "source": [
    "%matplotlib inline\n",
    "from sklearn import metrics\n",
    "import matplotlib.pyplot as plt\n",
    "import seaborn as sns\n",
    "sns.set(font_scale=2)\n",
    "LABELS = ['Normal','Xss','Sql injection'] \n",
    "\n",
    "max_test = np.argmax(tuple_4[3], axis=1)\n",
    "max_predictions = np.argmax(predictions, axis=1)\n",
    "confusion_matrix = metrics.confusion_matrix(max_test, max_predictions)\n",
    "\n",
    "plt.figure(figsize=(5, 5))\n",
    "sns.heatmap(confusion_matrix, xticklabels=LABELS, yticklabels=LABELS, annot=True, fmt=\"d\", annot_kws={\"size\": 20});\n",
    "plt.title(\"Confusion matrix\", fontsize=20)\n",
    "plt.ylabel('True label', fontsize=20)\n",
    "plt.xlabel('Predicted label', fontsize=20)\n",
    "plt.show()"
   ]
  },
  {
   "cell_type": "code",
   "execution_count": 560,
   "metadata": {},
   "outputs": [
    {
     "data": {
      "text/plain": [
       "'conclusion: it looks that the model have captured the necessair features for each class,specially for sql injection class and normal inputs class, maybe we need some improvement :more data,focal loss for xss class... '"
      ]
     },
     "execution_count": 560,
     "metadata": {},
     "output_type": "execute_result"
    }
   ],
   "source": [
    "\"\"\"conclusion: it looks that the model have captured the necessair features for each class,specially for sql injection class and normal inputs class, maybe we need some improvement :more data,focal loss for xss class... \"\"\""
   ]
  },
  {
   "cell_type": "code",
   "execution_count": 561,
   "metadata": {},
   "outputs": [
    {
     "data": {
      "text/plain": [
       "'now i will test my model with some real payloads that i found in hackerone/https://hackerone.com/(bug bounty Xd ),you can check them if you want(why note make money hahaha) '"
      ]
     },
     "execution_count": 561,
     "metadata": {},
     "output_type": "execute_result"
    }
   ],
   "source": [
    "\n",
    "\"\"\"now i will test my model with some real payloads that i found in hackerone/https://hackerone.com/(bug bounty Xd ),you can check them if you want(why note make money hahaha) \"\"\""
   ]
  },
  {
   "cell_type": "code",
   "execution_count": 562,
   "metadata": {},
   "outputs": [],
   "source": [
    "#list of payloads\n",
    "payload_sql1=\"and (@@version)=1 and '1'='1\" #Weak credentials, Blind SQLi, Timing attack, that leads to web admin access check for this title in hackerone\n",
    "payload_sql2=\"admin' AND (database()) LIKE ‘%’;--\"\n",
    "payload_sql3=\"admin' AND (SELECT table_name FROM information_schema.tables WHERE table_schema=database() LIMIT 1 OFFSET 1\"\") LIKE '%’;--\"\"\"\n",
    "payload_sql4=\"admin' AND (SELECT password FROM users LIMIT 1 OFFSET 0) LIKE '%’;--\"\n",
    "payload_sql5='(SELECT case when SUBSTR(lastName,1,1) = \"S\" then 1 else 0 end from user where age = 25 limit 1)'\n",
    "payload_sql6=\"'-if(1=2,'0','1')-'\"\n",
    "payload_sql7=\"')/**/OR/**/MID(0x352e362e33332d6c6f67,1,1)/**/LIKE/**/5/**/%23\"\n",
    "payload_sql8=\"'-IF(1=1,SLEEP(1),0) AND group_id='1\"\n",
    "new_payloads=[payload_sql1,payload_sql2,payload_sql3,payload_sql4,payload_sql5,payload_sql6,payload_sql7,payload_sql8]"
   ]
  },
  {
   "cell_type": "code",
   "execution_count": 563,
   "metadata": {},
   "outputs": [
    {
     "data": {
      "text/plain": [
       "array([[0.01359424, 0.01525007, 0.9711557 ],\n",
       "       [0.02167095, 0.01946821, 0.9588608 ],\n",
       "       [0.004319  , 0.00477972, 0.99090135],\n",
       "       [0.0086448 , 0.00357589, 0.9877793 ],\n",
       "       [0.00283558, 0.00619471, 0.9909697 ],\n",
       "       [0.97439826, 0.01733368, 0.00826804],\n",
       "       [0.97439826, 0.01733368, 0.00826804],\n",
       "       [0.05874063, 0.08463819, 0.8566212 ]], dtype=float32)"
      ]
     },
     "execution_count": 563,
     "metadata": {},
     "output_type": "execute_result"
    }
   ],
   "source": [
    "#creation fo a new object tekonizer\n",
    "my_tokenizer = Tokenizer(num_words=600000,filters=\"\")\n",
    "my_tokenizer.fit_on_texts(tuple_4[0])\n",
    "my_tokens = my_tokenizer.texts_to_sequences(new_payloads)\n",
    "paylods_to_predict= pad_sequences(my_tokens, maxlen=max_lengh,padding='pre', truncating='pre')\n",
    "model_rnn.predict(paylods_to_predict)\n"
   ]
  },
  {
   "cell_type": "code",
   "execution_count": 564,
   "metadata": {},
   "outputs": [
    {
     "data": {
      "text/plain": [
       "'conclusion:the model is dealing well with sql injection(he made some mistakes ..we can improve that ..) '"
      ]
     },
     "execution_count": 564,
     "metadata": {},
     "output_type": "execute_result"
    }
   ],
   "source": [
    "\"\"\"conclusion:the model is dealing well with sql injection(he made some mistakes ..we can improve that ..) \"\"\""
   ]
  },
  {
   "cell_type": "code",
   "execution_count": null,
   "metadata": {},
   "outputs": [],
   "source": []
  }
 ],
 "metadata": {
  "kernelspec": {
   "display_name": "Python 3",
   "language": "python",
   "name": "python3"
  },
  "language_info": {
   "codemirror_mode": {
    "name": "ipython",
    "version": 3
   },
   "file_extension": ".py",
   "mimetype": "text/x-python",
   "name": "python",
   "nbconvert_exporter": "python",
   "pygments_lexer": "ipython3",
   "version": "3.6.8"
  }
 },
 "nbformat": 4,
 "nbformat_minor": 2
}
